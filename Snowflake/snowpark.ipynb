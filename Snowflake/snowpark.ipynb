{
 "cells": [
  {
   "cell_type": "code",
   "execution_count": 1,
   "metadata": {},
   "outputs": [],
   "source": [
    "from snowflake.snowpark import Session\n",
    "from snowflake.snowpark.functions import col"
   ]
  },
  {
   "cell_type": "code",
   "execution_count": 2,
   "metadata": {},
   "outputs": [],
   "source": [
    "connection_parameters = {\n",
    "    \"account\": \"ag08457.east-us-2.azure\",\n",
    "    \"user\": \"CHANDRASEKARANA1\",\n",
    "    \"password\": \"Psg@04p606\",\n",
    "    \"role\": \"SYSADMIN\",  # optional\n",
    "    \"warehouse\": \"XHRPLAYGROUND\",  # optional\n",
    "    \"database\": \"DB_PLAYGROUND\",  # optional\n",
    "    \"schema\": \"PUBLIC\",  # optional\n",
    "  }  \n",
    "new_session = Session.builder.configs(connection_parameters).create()"
   ]
  },
  {
   "cell_type": "code",
   "execution_count": 4,
   "metadata": {},
   "outputs": [
    {
     "name": "stdout",
     "output_type": "stream",
     "text": [
      "-----------------------------------------------------------------------------------------------------------------------\n",
      "|\"YYYYMM\"  |\"ONET_CD\"  |\"ONET\"  |\"HOME_MSA\"  |\"EMPLOYERS\"  |\"EMPLOYEES\"  |\"CUST_NAME\"  |\"SF_ACCT\"  |\"PROD_INDICATOR\"  |\n",
      "-----------------------------------------------------------------------------------------------------------------------\n",
      "|          |           |        |            |             |             |             |           |                  |\n",
      "-----------------------------------------------------------------------------------------------------------------------\n",
      "\n"
     ]
    }
   ],
   "source": [
    "tableName = 'DB_PLAYGROUND.PUBLIC.TBL_SAMPLE'\n",
    "dataframe = new_session.table(tableName).filter(col(\"EMPLOYEES\") > 1200)\n",
    "dataframe.show()"
   ]
  }
 ],
 "metadata": {
  "kernelspec": {
   "display_name": "Python 3",
   "language": "python",
   "name": "python3"
  },
  "language_info": {
   "codemirror_mode": {
    "name": "ipython",
    "version": 3
   },
   "file_extension": ".py",
   "mimetype": "text/x-python",
   "name": "python",
   "nbconvert_exporter": "python",
   "pygments_lexer": "ipython3",
   "version": "3.11.1"
  }
 },
 "nbformat": 4,
 "nbformat_minor": 2
}
